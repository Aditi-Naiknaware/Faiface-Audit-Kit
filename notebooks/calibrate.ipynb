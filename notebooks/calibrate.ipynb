{
 "cells": [
  {
   "cell_type": "code",
   "execution_count": 1,
   "id": "5e6c054d-c182-48df-b9c0-e41787563abb",
   "metadata": {},
   "outputs": [
    {
     "name": "stderr",
     "output_type": "stream",
     "text": [
      "/opt/conda/lib/python3.11/site-packages/torch/optim/lbfgs.py:457: UserWarning: Converting a tensor with requires_grad=True to a scalar may lead to unexpected behavior.\n",
      "Consider using tensor.detach() first. (Triggered internally at /pytorch/torch/csrc/autograd/generated/python_variable_methods.cpp:835.)\n",
      "  loss = float(closure())\n"
     ]
    },
    {
     "name": "stdout",
     "output_type": "stream",
     "text": [
      "Calibrated ACC: 0.5448238086543729 Calibrated ECE: 0.017760192349985708\n"
     ]
    }
   ],
   "source": [
    "import torch, json\n",
    "from src.config import CFG\n",
    "from src.data import make_loaders\n",
    "from src.model import build_model\n",
    "from src.calibration import fit_temperature\n",
    "from src.metrics import evaluate, expected_calibration_error\n",
    "\n",
    "cfg = CFG()\n",
    "device = \"cuda\" if torch.cuda.is_available() else \"cpu\"\n",
    "train_loader, val_loader, test_loader = make_loaders(cfg)\n",
    "\n",
    "# Load your best checkpoint (e.g., groupdro)\n",
    "model = build_model(cfg.model_name, num_classes=9).to(device)\n",
    "model.load_state_dict(torch.load(\"models/model_groupdro.pt\", map_location=device))\n",
    "scaler = fit_temperature(model, val_loader, device=device)\n",
    "\n",
    "@torch.no_grad()\n",
    "def evaluate_with_temp(model, loader, scaler, device=\"cpu\"):\n",
    "    model.eval()\n",
    "    y_all, p_all, conf_all, races, genders = [], [], [], [], []\n",
    "    for x,y,r,g in loader:\n",
    "        x=x.to(device); y=y.to(device)\n",
    "        logits = model(x)\n",
    "        logits = scaler(logits)     # apply temperature\n",
    "        probs = torch.softmax(logits, dim=1)\n",
    "        preds = probs.argmax(1)\n",
    "        y_all.extend(y.cpu().tolist())\n",
    "        p_all.extend(preds.cpu().tolist())\n",
    "        conf_all.extend(probs.max(1).values.cpu().tolist())\n",
    "        races.extend(r.tolist()); genders.extend(g.tolist())\n",
    "    from sklearn.metrics import accuracy_score\n",
    "    overall_acc = accuracy_score(y_all, p_all)\n",
    "    ece = expected_calibration_error(y_all, p_all, conf_all, n_bins=15)\n",
    "    return overall_acc, ece\n",
    "\n",
    "acc, ece = evaluate_with_temp(model, test_loader, scaler, device)\n",
    "print(\"Calibrated ACC:\", acc, \"Calibrated ECE:\", ece)\n",
    "\n",
    "torch.save(scaler.state_dict(), \"models/temperature_scaler.pt\")\n"
   ]
  },
  {
   "cell_type": "code",
   "execution_count": null,
   "id": "fa83e3fe-ab04-47da-8349-014a7c5e72d5",
   "metadata": {},
   "outputs": [],
   "source": []
  }
 ],
 "metadata": {
  "kernelspec": {
   "display_name": "Python 3 (ipykernel)",
   "language": "python",
   "name": "python3"
  },
  "language_info": {
   "codemirror_mode": {
    "name": "ipython",
    "version": 3
   },
   "file_extension": ".py",
   "mimetype": "text/x-python",
   "name": "python",
   "nbconvert_exporter": "python",
   "pygments_lexer": "ipython3",
   "version": "3.11.9"
  }
 },
 "nbformat": 4,
 "nbformat_minor": 5
}
