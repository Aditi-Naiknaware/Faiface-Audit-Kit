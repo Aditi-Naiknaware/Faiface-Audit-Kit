{
 "cells": [
  {
   "cell_type": "code",
   "execution_count": 1,
   "id": "05f0062f-7206-4b85-88b2-aa4838e00d91",
   "metadata": {},
   "outputs": [
    {
     "name": "stderr",
     "output_type": "stream",
     "text": [
      "/tmp/ipykernel_101953/2839475975.py:13: DeprecationWarning: You are using the legacy TorchScript-based ONNX export. Starting in PyTorch 2.9, the new torch.export-based ONNX exporter will be the default. To switch now, set dynamo=True in torch.onnx.export. This new exporter supports features like exporting LLMs with DynamicCache. We encourage you to try it and share feedback to help improve the experience. Learn more about the new export logic: https://pytorch.org/docs/stable/onnx_dynamo.html. For exporting control flow: https://pytorch.org/tutorials/beginner/onnx/export_control_flow_model_to_onnx_tutorial.html.\n",
      "  torch.onnx.export(\n"
     ]
    },
    {
     "name": "stdout",
     "output_type": "stream",
     "text": [
      "Exported to models/model_groupdro.onnx\n"
     ]
    }
   ],
   "source": [
    "import torch\n",
    "from src.config import CFG\n",
    "from src.model import build_model\n",
    "\n",
    "cfg = CFG()\n",
    "device = \"cuda\" if torch.cuda.is_available() else \"cpu\"\n",
    "\n",
    "model = build_model(cfg.model_name, num_classes=9).to(device)\n",
    "model.load_state_dict(torch.load(\"models/model_groupdro.pt\", map_location=device))\n",
    "model.eval()\n",
    "\n",
    "dummy = torch.randn(1,3,cfg.img_size,cfg.img_size, device=device)\n",
    "torch.onnx.export(\n",
    "    model, dummy, \"models/model_groupdro.onnx\",\n",
    "    input_names=[\"input\"], output_names=[\"logits\"],\n",
    "    dynamic_axes={\"input\":{0:\"batch\"}, \"logits\":{0:\"batch\"}},\n",
    "    opset_version=17\n",
    ")\n",
    "print(\"Exported to models/model_groupdro.onnx\")\n"
   ]
  },
  {
   "cell_type": "code",
   "execution_count": null,
   "id": "092768d6-f8a1-4516-97f2-d28acb90f6ae",
   "metadata": {},
   "outputs": [],
   "source": []
  }
 ],
 "metadata": {
  "kernelspec": {
   "display_name": "Python 3 (ipykernel)",
   "language": "python",
   "name": "python3"
  },
  "language_info": {
   "codemirror_mode": {
    "name": "ipython",
    "version": 3
   },
   "file_extension": ".py",
   "mimetype": "text/x-python",
   "name": "python",
   "nbconvert_exporter": "python",
   "pygments_lexer": "ipython3",
   "version": "3.11.9"
  }
 },
 "nbformat": 4,
 "nbformat_minor": 5
}
