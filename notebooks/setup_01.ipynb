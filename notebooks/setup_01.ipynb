{
 "cells": [
  {
   "cell_type": "code",
   "execution_count": 1,
   "id": "ac4affa9-92d5-43ad-84aa-cd8a09e63365",
   "metadata": {},
   "outputs": [
    {
     "name": "stdout",
     "output_type": "stream",
     "text": [
      "Python: 3.11.9 | packaged by conda-forge | (main, Apr 19 2024, 18:36:13) [GCC 12.3.0]\n",
      "Torch: 2.8.0+cu128\n",
      "CUDA available? True\n",
      "Device: NVIDIA L40\n"
     ]
    }
   ],
   "source": [
    "import torch, platform, sys\n",
    "print(\"Python:\", sys.version)\n",
    "print(\"Torch:\", torch.__version__)\n",
    "print(\"CUDA available?\", torch.cuda.is_available())\n",
    "print(\"Device:\", torch.cuda.get_device_name(0) if torch.cuda.is_available() else \"CPU\")\n"
   ]
  },
  {
   "cell_type": "code",
   "execution_count": 2,
   "id": "1f45bc8b-7837-4f71-90d0-6942ae054c29",
   "metadata": {},
   "outputs": [
    {
     "name": "stdout",
     "output_type": "stream",
     "text": [
      "['0.25', '1.25']\n"
     ]
    },
    {
     "data": {
      "application/vnd.jupyter.widget-view+json": {
       "model_id": "18c76908fe2d4ba8a552b4dd113375ca",
       "version_major": 2,
       "version_minor": 0
      },
      "text/plain": [
       "0.25/train-00000-of-00002-d405faba4f4b9b(…):   0%|          | 0.00/250M [00:00<?, ?B/s]"
      ]
     },
     "metadata": {},
     "output_type": "display_data"
    },
    {
     "data": {
      "application/vnd.jupyter.widget-view+json": {
       "model_id": "878012455b8a4070a2303daa7199691f",
       "version_major": 2,
       "version_minor": 0
      },
      "text/plain": [
       "0.25/train-00001-of-00002-dd3cb681647274(…):   0%|          | 0.00/250M [00:00<?, ?B/s]"
      ]
     },
     "metadata": {},
     "output_type": "display_data"
    },
    {
     "data": {
      "application/vnd.jupyter.widget-view+json": {
       "model_id": "67211138757e426b865f8a55fa626277",
       "version_major": 2,
       "version_minor": 0
      },
      "text/plain": [
       "0.25/validation-00000-of-00001-951dbd63c(…):   0%|          | 0.00/63.2M [00:00<?, ?B/s]"
      ]
     },
     "metadata": {},
     "output_type": "display_data"
    },
    {
     "data": {
      "application/vnd.jupyter.widget-view+json": {
       "model_id": "1e289872c0b14ec0b4dc24f2c3d4ebd3",
       "version_major": 2,
       "version_minor": 0
      },
      "text/plain": [
       "Generating train split:   0%|          | 0/86744 [00:00<?, ? examples/s]"
      ]
     },
     "metadata": {},
     "output_type": "display_data"
    },
    {
     "data": {
      "application/vnd.jupyter.widget-view+json": {
       "model_id": "d8cb17c2251342c2835a5dd2bd1e19a8",
       "version_major": 2,
       "version_minor": 0
      },
      "text/plain": [
       "Generating validation split:   0%|          | 0/10954 [00:00<?, ? examples/s]"
      ]
     },
     "metadata": {},
     "output_type": "display_data"
    },
    {
     "name": "stdout",
     "output_type": "stream",
     "text": [
      "DatasetDict({\n",
      "    train: Dataset({\n",
      "        features: ['image', 'age', 'gender', 'race', 'service_test'],\n",
      "        num_rows: 86744\n",
      "    })\n",
      "    validation: Dataset({\n",
      "        features: ['image', 'age', 'gender', 'race', 'service_test'],\n",
      "        num_rows: 10954\n",
      "    })\n",
      "})\n",
      "{'image': Image(mode=None, decode=True), 'age': ClassLabel(names=['0-2', '3-9', '10-19', '20-29', '30-39', '40-49', '50-59', '60-69', 'more than 70']), 'gender': ClassLabel(names=['Male', 'Female']), 'race': ClassLabel(names=['East Asian', 'Indian', 'Black', 'White', 'Middle Eastern', 'Latino_Hispanic', 'Southeast Asian']), 'service_test': Value('bool')}\n"
     ]
    }
   ],
   "source": [
    "from datasets import load_dataset, get_dataset_config_names\n",
    "print(get_dataset_config_names(\"HuggingFaceM4/FairFace\"))  # should show ['0.25','1.25']\n",
    "ds = load_dataset(\"HuggingFaceM4/FairFace\", \"0.25\")\n",
    "print(ds)           # train / validation\n",
    "print(ds[\"train\"].features)"
   ]
  },
  {
   "cell_type": "code",
   "execution_count": null,
   "id": "7d547e6f-294d-48b9-ae94-48bcad07bbf1",
   "metadata": {},
   "outputs": [],
   "source": [
    "!watch -n 2 'ls -lh models/*.pt reports/*.json 2>/dev/null'\n"
   ]
  },
  {
   "cell_type": "code",
   "execution_count": null,
   "id": "e5c22647-f83a-4934-afaf-53ac193def28",
   "metadata": {},
   "outputs": [],
   "source": []
  },
  {
   "cell_type": "code",
   "execution_count": null,
   "id": "38ac7962-028c-44b1-b743-c6d704fce8f2",
   "metadata": {},
   "outputs": [],
   "source": []
  }
 ],
 "metadata": {
  "kernelspec": {
   "display_name": "Python 3 (ipykernel)",
   "language": "python",
   "name": "python3"
  },
  "language_info": {
   "codemirror_mode": {
    "name": "ipython",
    "version": 3
   },
   "file_extension": ".py",
   "mimetype": "text/x-python",
   "name": "python",
   "nbconvert_exporter": "python",
   "pygments_lexer": "ipython3",
   "version": "3.11.9"
  }
 },
 "nbformat": 4,
 "nbformat_minor": 5
}
