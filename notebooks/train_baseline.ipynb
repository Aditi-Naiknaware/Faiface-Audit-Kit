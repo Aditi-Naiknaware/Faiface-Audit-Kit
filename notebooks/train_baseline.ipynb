{
 "cells": [
  {
   "cell_type": "code",
   "execution_count": 3,
   "id": "aa8dc246-cd49-456b-9419-b1a6a84ba40d",
   "metadata": {},
   "outputs": [
    {
     "name": "stderr",
     "output_type": "stream",
     "text": [
      "Epoch 1/8: 100%|██████████| 1356/1356 [03:33<00:00,  6.36it/s]\n"
     ]
    },
    {
     "name": "stdout",
     "output_type": "stream",
     "text": [
      "Val acc: 0.4882 | Worst-group acc: 0.4366 | Δgap: 0.107\n"
     ]
    },
    {
     "name": "stderr",
     "output_type": "stream",
     "text": [
      "Epoch 2/8: 100%|██████████| 1356/1356 [03:35<00:00,  6.28it/s]\n"
     ]
    },
    {
     "name": "stdout",
     "output_type": "stream",
     "text": [
      "Val acc: 0.5147 | Worst-group acc: 0.4746 | Δgap: 0.113\n"
     ]
    },
    {
     "name": "stderr",
     "output_type": "stream",
     "text": [
      "Epoch 3/8: 100%|██████████| 1356/1356 [03:48<00:00,  5.94it/s]\n"
     ]
    },
    {
     "name": "stdout",
     "output_type": "stream",
     "text": [
      "Val acc: 0.5384 | Worst-group acc: 0.4649 | Δgap: 0.144\n"
     ]
    },
    {
     "name": "stderr",
     "output_type": "stream",
     "text": [
      "Epoch 4/8: 100%|██████████| 1356/1356 [03:43<00:00,  6.07it/s]\n"
     ]
    },
    {
     "name": "stdout",
     "output_type": "stream",
     "text": [
      "Val acc: 0.5120 | Worst-group acc: 0.4568 | Δgap: 0.110\n"
     ]
    },
    {
     "name": "stderr",
     "output_type": "stream",
     "text": [
      "Epoch 5/8: 100%|██████████| 1356/1356 [03:36<00:00,  6.27it/s]\n"
     ]
    },
    {
     "name": "stdout",
     "output_type": "stream",
     "text": [
      "Val acc: 0.5238 | Worst-group acc: 0.4730 | Δgap: 0.113\n"
     ]
    },
    {
     "name": "stderr",
     "output_type": "stream",
     "text": [
      "Epoch 6/8: 100%|██████████| 1356/1356 [03:42<00:00,  6.09it/s]\n"
     ]
    },
    {
     "name": "stdout",
     "output_type": "stream",
     "text": [
      "Val acc: 0.5180 | Worst-group acc: 0.4622 | Δgap: 0.084\n",
      "Early stopping.\n",
      "Saved: /home/jovyan/fairface-audit-kit/reports/baseline_report.json\n"
     ]
    }
   ],
   "source": [
    "from src.config import CFG\n",
    "from src.train import train\n",
    "\n",
    "cfg = CFG()\n",
    "cfg.epochs = 8               # adjust up if you have GPU time\n",
    "cfg.use_reweighting = False\n",
    "cfg.use_groupdro = False\n",
    "\n",
    "train(cfg)\n"
   ]
  },
  {
   "cell_type": "code",
   "execution_count": 2,
   "id": "d33d3458-ebcb-420d-bada-1b2e9e2d44c9",
   "metadata": {},
   "outputs": [
    {
     "name": "stderr",
     "output_type": "stream",
     "text": [
      "Epoch 1/8: 100%|██████████| 1356/1356 [03:32<00:00,  6.38it/s]\n"
     ]
    },
    {
     "name": "stdout",
     "output_type": "stream",
     "text": [
      "Val acc: 0.3117 | Worst-group acc: 0.2366 | Δgap: 0.139\n"
     ]
    },
    {
     "name": "stderr",
     "output_type": "stream",
     "text": [
      "Epoch 2/8: 100%|██████████| 1356/1356 [03:44<00:00,  6.04it/s]\n"
     ]
    },
    {
     "name": "stdout",
     "output_type": "stream",
     "text": [
      "Val acc: 0.4008 | Worst-group acc: 0.3703 | Δgap: 0.076\n"
     ]
    },
    {
     "name": "stderr",
     "output_type": "stream",
     "text": [
      "Epoch 3/8: 100%|██████████| 1356/1356 [03:44<00:00,  6.03it/s]\n"
     ]
    },
    {
     "name": "stdout",
     "output_type": "stream",
     "text": [
      "Val acc: 0.3794 | Worst-group acc: 0.3073 | Δgap: 0.137\n"
     ]
    },
    {
     "name": "stderr",
     "output_type": "stream",
     "text": [
      "Epoch 4/8: 100%|██████████| 1356/1356 [03:44<00:00,  6.05it/s]\n"
     ]
    },
    {
     "name": "stdout",
     "output_type": "stream",
     "text": [
      "Val acc: 0.4497 | Worst-group acc: 0.3757 | Δgap: 0.154\n"
     ]
    },
    {
     "name": "stderr",
     "output_type": "stream",
     "text": [
      "Epoch 5/8: 100%|██████████| 1356/1356 [03:45<00:00,  6.03it/s]\n"
     ]
    },
    {
     "name": "stdout",
     "output_type": "stream",
     "text": [
      "Val acc: 0.4554 | Worst-group acc: 0.3432 | Δgap: 0.176\n"
     ]
    },
    {
     "name": "stderr",
     "output_type": "stream",
     "text": [
      "Epoch 6/8: 100%|██████████| 1356/1356 [03:42<00:00,  6.11it/s]\n"
     ]
    },
    {
     "name": "stdout",
     "output_type": "stream",
     "text": [
      "Val acc: 0.4402 | Worst-group acc: 0.3757 | Δgap: 0.122\n"
     ]
    },
    {
     "name": "stderr",
     "output_type": "stream",
     "text": [
      "Epoch 7/8: 100%|██████████| 1356/1356 [03:39<00:00,  6.18it/s]\n"
     ]
    },
    {
     "name": "stdout",
     "output_type": "stream",
     "text": [
      "Val acc: 0.4725 | Worst-group acc: 0.4239 | Δgap: 0.116\n"
     ]
    },
    {
     "name": "stderr",
     "output_type": "stream",
     "text": [
      "Epoch 8/8: 100%|██████████| 1356/1356 [03:38<00:00,  6.21it/s]\n"
     ]
    },
    {
     "name": "stdout",
     "output_type": "stream",
     "text": [
      "Val acc: 0.4221 | Worst-group acc: 0.3376 | Δgap: 0.198\n",
      "Saved: /home/jovyan/fairface-audit-kit/reports/reweighted_report.json\n"
     ]
    }
   ],
   "source": [
    "from src.config import CFG\n",
    "from src.train import train\n",
    "\n",
    "cfg = CFG()\n",
    "cfg.epochs = 8\n",
    "cfg.use_reweighting = True\n",
    "cfg.use_groupdro = False\n",
    "\n",
    "train(cfg)\n"
   ]
  },
  {
   "cell_type": "code",
   "execution_count": 3,
   "id": "c2b2f40f-6935-41bd-971d-2ebc481583e1",
   "metadata": {},
   "outputs": [
    {
     "name": "stderr",
     "output_type": "stream",
     "text": [
      "Epoch 1/8: 100%|██████████| 1356/1356 [03:46<00:00,  6.00it/s]\n"
     ]
    },
    {
     "name": "stdout",
     "output_type": "stream",
     "text": [
      "Val acc: 0.4831 | Worst-group acc: 0.4188 | Δgap: 0.153\n"
     ]
    },
    {
     "name": "stderr",
     "output_type": "stream",
     "text": [
      "Epoch 2/8: 100%|██████████| 1356/1356 [03:47<00:00,  5.95it/s]\n"
     ]
    },
    {
     "name": "stdout",
     "output_type": "stream",
     "text": [
      "Val acc: 0.5154 | Worst-group acc: 0.4582 | Δgap: 0.142\n"
     ]
    },
    {
     "name": "stderr",
     "output_type": "stream",
     "text": [
      "Epoch 3/8: 100%|██████████| 1356/1356 [03:45<00:00,  6.00it/s]\n"
     ]
    },
    {
     "name": "stdout",
     "output_type": "stream",
     "text": [
      "Val acc: 0.5295 | Worst-group acc: 0.4541 | Δgap: 0.138\n"
     ]
    },
    {
     "name": "stderr",
     "output_type": "stream",
     "text": [
      "Epoch 4/8: 100%|██████████| 1356/1356 [03:42<00:00,  6.08it/s]\n"
     ]
    },
    {
     "name": "stdout",
     "output_type": "stream",
     "text": [
      "Val acc: 0.5222 | Worst-group acc: 0.4568 | Δgap: 0.123\n"
     ]
    },
    {
     "name": "stderr",
     "output_type": "stream",
     "text": [
      "Epoch 5/8: 100%|██████████| 1356/1356 [03:41<00:00,  6.12it/s]\n"
     ]
    },
    {
     "name": "stdout",
     "output_type": "stream",
     "text": [
      "Val acc: 0.5200 | Worst-group acc: 0.4594 | Δgap: 0.117\n"
     ]
    },
    {
     "name": "stderr",
     "output_type": "stream",
     "text": [
      "Epoch 6/8: 100%|██████████| 1356/1356 [03:46<00:00,  5.99it/s]\n"
     ]
    },
    {
     "name": "stdout",
     "output_type": "stream",
     "text": [
      "Val acc: 0.5140 | Worst-group acc: 0.4703 | Δgap: 0.089\n",
      "Early stopping.\n",
      "Saved: /home/jovyan/fairface-audit-kit/reports/reweighted_report.json\n"
     ]
    }
   ],
   "source": [
    "from src.config import CFG\n",
    "from src.train import train\n",
    "\n",
    "cfg = CFG()\n",
    "cfg.epochs = 8\n",
    "cfg.use_reweighting = False\n",
    "cfg.use_groupdro = True\n",
    "cfg.dro_temperature = 5.0   # try 3–10; higher ≈ harder max\n",
    "\n",
    "train(cfg)\n"
   ]
  },
  {
   "cell_type": "code",
   "execution_count": 4,
   "id": "9159d146-33fb-46c7-b999-520b777a90a4",
   "metadata": {},
   "outputs": [
    {
     "data": {
      "text/plain": [
       "'models/model_groupdro.pt'"
      ]
     },
     "execution_count": 4,
     "metadata": {},
     "output_type": "execute_result"
    }
   ],
   "source": [
    "import shutil\n",
    "shutil.move(\"reports/baseline_report.json\", \"reports/groupdro_report.json\")\n",
    "shutil.move(\"models/model_best.pt\", \"models/model_groupdro.pt\")"
   ]
  },
  {
   "cell_type": "code",
   "execution_count": 5,
   "id": "750c8109-2034-4678-8c98-45f5a6d39010",
   "metadata": {},
   "outputs": [
    {
     "name": "stdout",
     "output_type": "stream",
     "text": [
      "models/model_best.pt  -> not found\n",
      "reports/baseline_report.json  -> not found\n",
      "reports/reweighted_report.json  -> mtime: 2025-09-07 21:36:57.690809\n",
      "reports/groupdro_report.json  -> mtime: 2025-09-07 03:08:15.586487\n"
     ]
    }
   ],
   "source": [
    "import os, datetime as dt\n",
    "for f in [\"models/model_best.pt\",\n",
    "          \"reports/baseline_report.json\",\n",
    "          \"reports/reweighted_report.json\",\n",
    "          \"reports/groupdro_report.json\"]:\n",
    "    if os.path.exists(f):\n",
    "        print(f, \" -> mtime:\", dt.datetime.fromtimestamp(os.path.getmtime(f)))\n",
    "    else:\n",
    "        print(f, \" -> not found\")\n"
   ]
  },
  {
   "cell_type": "code",
   "execution_count": null,
   "id": "bef0db0f-d847-48af-9f57-be69d5c9a020",
   "metadata": {},
   "outputs": [],
   "source": []
  }
 ],
 "metadata": {
  "kernelspec": {
   "display_name": "Python 3 (ipykernel)",
   "language": "python",
   "name": "python3"
  },
  "language_info": {
   "codemirror_mode": {
    "name": "ipython",
    "version": 3
   },
   "file_extension": ".py",
   "mimetype": "text/x-python",
   "name": "python",
   "nbconvert_exporter": "python",
   "pygments_lexer": "ipython3",
   "version": "3.11.9"
  }
 },
 "nbformat": 4,
 "nbformat_minor": 5
}
